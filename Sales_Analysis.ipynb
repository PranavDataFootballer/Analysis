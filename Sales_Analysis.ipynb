{
 "cells": [
  {
   "cell_type": "markdown",
   "id": "1795efa1-9b70-497c-a00f-99c0ff28e771",
   "metadata": {},
   "source": [
    "# Problem Statement"
   ]
  },
  {
   "cell_type": "markdown",
   "id": "284b6a91-71dd-436e-a8f3-2174848b8b17",
   "metadata": {},
   "source": [
    "E-commerce sites such as amazon,flipkart,ebay sell lakhs of products/min . Hence, a huge amount of data will be created. \n",
    "Such as productID,Product Name,Product Quantity,Price of Product etc. \n",
    "So, we can analyse most sold products together. Also, we can find the highest sales in any particular month. "
   ]
  },
  {
   "cell_type": "markdown",
   "id": "dfadfe04-a231-43af-b1e4-2aa2f3883763",
   "metadata": {},
   "source": [
    "# How to read Feather data"
   ]
  },
  {
   "cell_type": "markdown",
   "id": "954052ff-7583-4441-a69c-2b7fd4670da3",
   "metadata": {},
   "source": [
    "\"Feather\" is a binary file format designed for fast, efficient storage and retrieval of large datasets, particularly in data science workflows."
   ]
  },
  {
   "cell_type": "code",
   "execution_count": 5,
   "id": "dbbdd0d5-ea88-464f-89fb-a1f8895f147b",
   "metadata": {},
   "outputs": [],
   "source": [
    "import pandas as pd\n",
    "import numpy as np\n",
    "import matplotlib.pyplot as plt\n",
    "import seaborn as sns\n",
    "import warnings \n",
    "from warnings import filterwarnings\n",
    "filterwarnings('ignore')"
   ]
  },
  {
   "cell_type": "code",
   "execution_count": 7,
   "id": "f8d5168f-6f52-4d3a-a660-ac8789037064",
   "metadata": {},
   "outputs": [
    {
     "name": "stdout",
     "output_type": "stream",
     "text": [
      "Requirement already satisfied: pyarrow in d:\\new folder\\lib\\site-packages (14.0.2)\n",
      "Requirement already satisfied: numpy>=1.16.6 in d:\\new folder\\lib\\site-packages (from pyarrow) (1.26.4)\n"
     ]
    }
   ],
   "source": [
    "!pip install pyarrow"
   ]
  },
  {
   "cell_type": "code",
   "execution_count": 9,
   "id": "dbbfa144-9fac-4fb8-8b3b-b45123236708",
   "metadata": {},
   "outputs": [],
   "source": [
    "all_data = pd.read_feather(r\"D:\\Sales Analysis\\Sales_data.ftr\")"
   ]
  },
  {
   "cell_type": "code",
   "execution_count": 11,
   "id": "2ca3cc32-a73c-494d-84ec-36aaa94408b4",
   "metadata": {},
   "outputs": [
    {
     "data": {
      "text/html": [
       "<div>\n",
       "<style scoped>\n",
       "    .dataframe tbody tr th:only-of-type {\n",
       "        vertical-align: middle;\n",
       "    }\n",
       "\n",
       "    .dataframe tbody tr th {\n",
       "        vertical-align: top;\n",
       "    }\n",
       "\n",
       "    .dataframe thead th {\n",
       "        text-align: right;\n",
       "    }\n",
       "</style>\n",
       "<table border=\"1\" class=\"dataframe\">\n",
       "  <thead>\n",
       "    <tr style=\"text-align: right;\">\n",
       "      <th></th>\n",
       "      <th>Order ID</th>\n",
       "      <th>Product</th>\n",
       "      <th>Quantity Ordered</th>\n",
       "      <th>Price Each</th>\n",
       "      <th>Order Date</th>\n",
       "      <th>Purchase Address</th>\n",
       "    </tr>\n",
       "  </thead>\n",
       "  <tbody>\n",
       "    <tr>\n",
       "      <th>0</th>\n",
       "      <td>176558</td>\n",
       "      <td>USB-C Charging Cable</td>\n",
       "      <td>2</td>\n",
       "      <td>11.95</td>\n",
       "      <td>04/19/19 08:46</td>\n",
       "      <td>917 1st St, Dallas, TX 75001</td>\n",
       "    </tr>\n",
       "    <tr>\n",
       "      <th>1</th>\n",
       "      <td>None</td>\n",
       "      <td>None</td>\n",
       "      <td>None</td>\n",
       "      <td>None</td>\n",
       "      <td>None</td>\n",
       "      <td>None</td>\n",
       "    </tr>\n",
       "    <tr>\n",
       "      <th>2</th>\n",
       "      <td>176559</td>\n",
       "      <td>Bose SoundSport Headphones</td>\n",
       "      <td>1</td>\n",
       "      <td>99.99</td>\n",
       "      <td>04/07/19 22:30</td>\n",
       "      <td>682 Chestnut St, Boston, MA 02215</td>\n",
       "    </tr>\n",
       "    <tr>\n",
       "      <th>3</th>\n",
       "      <td>176560</td>\n",
       "      <td>Google Phone</td>\n",
       "      <td>1</td>\n",
       "      <td>600</td>\n",
       "      <td>04/12/19 14:38</td>\n",
       "      <td>669 Spruce St, Los Angeles, CA 90001</td>\n",
       "    </tr>\n",
       "    <tr>\n",
       "      <th>4</th>\n",
       "      <td>176560</td>\n",
       "      <td>Wired Headphones</td>\n",
       "      <td>1</td>\n",
       "      <td>11.99</td>\n",
       "      <td>04/12/19 14:38</td>\n",
       "      <td>669 Spruce St, Los Angeles, CA 90001</td>\n",
       "    </tr>\n",
       "  </tbody>\n",
       "</table>\n",
       "</div>"
      ],
      "text/plain": [
       "  Order ID                     Product Quantity Ordered Price Each  \\\n",
       "0   176558        USB-C Charging Cable                2      11.95   \n",
       "1     None                        None             None       None   \n",
       "2   176559  Bose SoundSport Headphones                1      99.99   \n",
       "3   176560                Google Phone                1        600   \n",
       "4   176560            Wired Headphones                1      11.99   \n",
       "\n",
       "       Order Date                      Purchase Address  \n",
       "0  04/19/19 08:46          917 1st St, Dallas, TX 75001  \n",
       "1            None                                  None  \n",
       "2  04/07/19 22:30     682 Chestnut St, Boston, MA 02215  \n",
       "3  04/12/19 14:38  669 Spruce St, Los Angeles, CA 90001  \n",
       "4  04/12/19 14:38  669 Spruce St, Los Angeles, CA 90001  "
      ]
     },
     "execution_count": 11,
     "metadata": {},
     "output_type": "execute_result"
    }
   ],
   "source": [
    "all_data.head()"
   ]
  },
  {
   "cell_type": "code",
   "execution_count": 13,
   "id": "c80be463-a6e6-4dd2-b025-52cdc516bfc8",
   "metadata": {},
   "outputs": [
    {
     "data": {
      "text/plain": [
       "Order ID            545\n",
       "Product             545\n",
       "Quantity Ordered    545\n",
       "Price Each          545\n",
       "Order Date          545\n",
       "Purchase Address    545\n",
       "dtype: int64"
      ]
     },
     "execution_count": 13,
     "metadata": {},
     "output_type": "execute_result"
    }
   ],
   "source": [
    "all_data.isnull().sum()"
   ]
  },
  {
   "cell_type": "code",
   "execution_count": 28,
   "id": "5f86bac9-3d84-4be4-8fe6-0c40c0156507",
   "metadata": {},
   "outputs": [],
   "source": [
    "all_data = all_data.dropna(how='all')\n",
    "# Dropping those rows where the whole row has null values"
   ]
  },
  {
   "cell_type": "code",
   "execution_count": 30,
   "id": "858aa511-1359-4b07-bc59-3056cc9e576b",
   "metadata": {},
   "outputs": [
    {
     "data": {
      "text/plain": [
       "Order ID            0\n",
       "Product             0\n",
       "Quantity Ordered    0\n",
       "Price Each          0\n",
       "Order Date          0\n",
       "Purchase Address    0\n",
       "dtype: int64"
      ]
     },
     "execution_count": 30,
     "metadata": {},
     "output_type": "execute_result"
    }
   ],
   "source": [
    "all_data.isnull().sum()"
   ]
  },
  {
   "cell_type": "code",
   "execution_count": 32,
   "id": "932e1031-4c04-49af-b52c-39f732532ea4",
   "metadata": {},
   "outputs": [
    {
     "data": {
      "text/plain": [
       "0"
      ]
     },
     "execution_count": 32,
     "metadata": {},
     "output_type": "execute_result"
    }
   ],
   "source": [
    "all_data.duplicated().sum()"
   ]
  },
  {
   "cell_type": "code",
   "execution_count": 34,
   "id": "efb28ae5-d2fb-44cc-a546-3086dd17e7fb",
   "metadata": {},
   "outputs": [],
   "source": [
    "all_data = all_data.drop_duplicates()"
   ]
  },
  {
   "cell_type": "code",
   "execution_count": 36,
   "id": "d3ac3b91-f395-4bfc-937a-6e32ed86a334",
   "metadata": {},
   "outputs": [
    {
     "data": {
      "text/plain": [
       "(185687, 6)"
      ]
     },
     "execution_count": 36,
     "metadata": {},
     "output_type": "execute_result"
    }
   ],
   "source": [
    "all_data.shape"
   ]
  },
  {
   "cell_type": "code",
   "execution_count": 38,
   "id": "9cef29a4-9d6c-41fa-9325-55f8f272876c",
   "metadata": {},
   "outputs": [
    {
     "data": {
      "text/plain": [
       "0"
      ]
     },
     "execution_count": 38,
     "metadata": {},
     "output_type": "execute_result"
    }
   ],
   "source": [
    "all_data.duplicated().sum()"
   ]
  },
  {
   "cell_type": "markdown",
   "id": "a8af3ac6-da78-46cb-9d70-cfa9e2e3fe2b",
   "metadata": {},
   "source": [
    "# Analyzing monthly sales"
   ]
  },
  {
   "cell_type": "code",
   "execution_count": 41,
   "id": "c75c9296-153d-4ae1-8203-124241772f1a",
   "metadata": {},
   "outputs": [
    {
     "data": {
      "text/html": [
       "<div>\n",
       "<style scoped>\n",
       "    .dataframe tbody tr th:only-of-type {\n",
       "        vertical-align: middle;\n",
       "    }\n",
       "\n",
       "    .dataframe tbody tr th {\n",
       "        vertical-align: top;\n",
       "    }\n",
       "\n",
       "    .dataframe thead th {\n",
       "        text-align: right;\n",
       "    }\n",
       "</style>\n",
       "<table border=\"1\" class=\"dataframe\">\n",
       "  <thead>\n",
       "    <tr style=\"text-align: right;\">\n",
       "      <th></th>\n",
       "      <th>Order ID</th>\n",
       "      <th>Product</th>\n",
       "      <th>Quantity Ordered</th>\n",
       "      <th>Price Each</th>\n",
       "      <th>Order Date</th>\n",
       "      <th>Purchase Address</th>\n",
       "    </tr>\n",
       "  </thead>\n",
       "  <tbody>\n",
       "    <tr>\n",
       "      <th>0</th>\n",
       "      <td>176558</td>\n",
       "      <td>USB-C Charging Cable</td>\n",
       "      <td>2</td>\n",
       "      <td>11.95</td>\n",
       "      <td>04/19/19 08:46</td>\n",
       "      <td>917 1st St, Dallas, TX 75001</td>\n",
       "    </tr>\n",
       "    <tr>\n",
       "      <th>2</th>\n",
       "      <td>176559</td>\n",
       "      <td>Bose SoundSport Headphones</td>\n",
       "      <td>1</td>\n",
       "      <td>99.99</td>\n",
       "      <td>04/07/19 22:30</td>\n",
       "      <td>682 Chestnut St, Boston, MA 02215</td>\n",
       "    </tr>\n",
       "    <tr>\n",
       "      <th>3</th>\n",
       "      <td>176560</td>\n",
       "      <td>Google Phone</td>\n",
       "      <td>1</td>\n",
       "      <td>600</td>\n",
       "      <td>04/12/19 14:38</td>\n",
       "      <td>669 Spruce St, Los Angeles, CA 90001</td>\n",
       "    </tr>\n",
       "    <tr>\n",
       "      <th>4</th>\n",
       "      <td>176560</td>\n",
       "      <td>Wired Headphones</td>\n",
       "      <td>1</td>\n",
       "      <td>11.99</td>\n",
       "      <td>04/12/19 14:38</td>\n",
       "      <td>669 Spruce St, Los Angeles, CA 90001</td>\n",
       "    </tr>\n",
       "    <tr>\n",
       "      <th>5</th>\n",
       "      <td>176561</td>\n",
       "      <td>Wired Headphones</td>\n",
       "      <td>1</td>\n",
       "      <td>11.99</td>\n",
       "      <td>04/30/19 09:27</td>\n",
       "      <td>333 8th St, Los Angeles, CA 90001</td>\n",
       "    </tr>\n",
       "  </tbody>\n",
       "</table>\n",
       "</div>"
      ],
      "text/plain": [
       "  Order ID                     Product Quantity Ordered Price Each  \\\n",
       "0   176558        USB-C Charging Cable                2      11.95   \n",
       "2   176559  Bose SoundSport Headphones                1      99.99   \n",
       "3   176560                Google Phone                1        600   \n",
       "4   176560            Wired Headphones                1      11.99   \n",
       "5   176561            Wired Headphones                1      11.99   \n",
       "\n",
       "       Order Date                      Purchase Address  \n",
       "0  04/19/19 08:46          917 1st St, Dallas, TX 75001  \n",
       "2  04/07/19 22:30     682 Chestnut St, Boston, MA 02215  \n",
       "3  04/12/19 14:38  669 Spruce St, Los Angeles, CA 90001  \n",
       "4  04/12/19 14:38  669 Spruce St, Los Angeles, CA 90001  \n",
       "5  04/30/19 09:27     333 8th St, Los Angeles, CA 90001  "
      ]
     },
     "execution_count": 41,
     "metadata": {},
     "output_type": "execute_result"
    }
   ],
   "source": [
    "all_data.head()"
   ]
  },
  {
   "cell_type": "code",
   "execution_count": 43,
   "id": "adc0e4d7-d045-4cdb-99f7-40de582deee6",
   "metadata": {},
   "outputs": [
    {
     "data": {
      "text/plain": [
       "'04/19/19 08:46'"
      ]
     },
     "execution_count": 43,
     "metadata": {},
     "output_type": "execute_result"
    }
   ],
   "source": [
    "all_data['Order Date'][0]"
   ]
  },
  {
   "cell_type": "code",
   "execution_count": 47,
   "id": "cb925a04-f7f4-4065-8156-a6a8a95941f6",
   "metadata": {},
   "outputs": [
    {
     "data": {
      "text/plain": [
       "'04/19/19'"
      ]
     },
     "execution_count": 47,
     "metadata": {},
     "output_type": "execute_result"
    }
   ],
   "source": [
    "'04/19/19 08:46'.split(' ')[0]"
   ]
  },
  {
   "cell_type": "code",
   "execution_count": 55,
   "id": "a3f7b1db-cd3d-413f-b570-f078302f235a",
   "metadata": {},
   "outputs": [
    {
     "data": {
      "text/plain": [
       "'04'"
      ]
     },
     "execution_count": 55,
     "metadata": {},
     "output_type": "execute_result"
    }
   ],
   "source": [
    "'04/19/19'.split(' ')[0].split('/')[0]"
   ]
  },
  {
   "cell_type": "code",
   "execution_count": 61,
   "id": "17a96ea5-9006-4826-8df7-3066c976d0ee",
   "metadata": {},
   "outputs": [],
   "source": [
    "all_data['Month'] = all_data['Order Date'].apply(lambda x: x.split(' ')[0].split('/')[0])"
   ]
  },
  {
   "cell_type": "code",
   "execution_count": 63,
   "id": "2b42de83-44db-48fe-91bc-2d49ce6b97bf",
   "metadata": {},
   "outputs": [
    {
     "data": {
      "text/plain": [
       "Order ID            object\n",
       "Product             object\n",
       "Quantity Ordered    object\n",
       "Price Each          object\n",
       "Order Date          object\n",
       "Purchase Address    object\n",
       "Month               object\n",
       "dtype: object"
      ]
     },
     "execution_count": 63,
     "metadata": {},
     "output_type": "execute_result"
    }
   ],
   "source": [
    "all_data.dtypes"
   ]
  },
  {
   "cell_type": "code",
   "execution_count": 65,
   "id": "a7017b55-9f17-43c5-8310-a30bb7162939",
   "metadata": {},
   "outputs": [
    {
     "data": {
      "text/plain": [
       "array(['04', '05', 'Order', '08', '09', '12', '01', '02', '03', '07',\n",
       "       '06', '11', '10'], dtype=object)"
      ]
     },
     "execution_count": 65,
     "metadata": {},
     "output_type": "execute_result"
    }
   ],
   "source": [
    "all_data['Month'].unique()"
   ]
  },
  {
   "cell_type": "code",
   "execution_count": 67,
   "id": "216ffeac-7673-43ca-bcc9-4759123ba51d",
   "metadata": {},
   "outputs": [],
   "source": [
    "filter1 = all_data['Month'] == 'Order'"
   ]
  },
  {
   "cell_type": "code",
   "execution_count": 69,
   "id": "7c38aae9-0ea9-43a0-96b4-ce0c55ae3d74",
   "metadata": {},
   "outputs": [
    {
     "data": {
      "text/html": [
       "<div>\n",
       "<style scoped>\n",
       "    .dataframe tbody tr th:only-of-type {\n",
       "        vertical-align: middle;\n",
       "    }\n",
       "\n",
       "    .dataframe tbody tr th {\n",
       "        vertical-align: top;\n",
       "    }\n",
       "\n",
       "    .dataframe thead th {\n",
       "        text-align: right;\n",
       "    }\n",
       "</style>\n",
       "<table border=\"1\" class=\"dataframe\">\n",
       "  <thead>\n",
       "    <tr style=\"text-align: right;\">\n",
       "      <th></th>\n",
       "      <th>Order ID</th>\n",
       "      <th>Product</th>\n",
       "      <th>Quantity Ordered</th>\n",
       "      <th>Price Each</th>\n",
       "      <th>Order Date</th>\n",
       "      <th>Purchase Address</th>\n",
       "      <th>Month</th>\n",
       "    </tr>\n",
       "  </thead>\n",
       "  <tbody>\n",
       "    <tr>\n",
       "      <th>519</th>\n",
       "      <td>Order ID</td>\n",
       "      <td>Product</td>\n",
       "      <td>Quantity Ordered</td>\n",
       "      <td>Price Each</td>\n",
       "      <td>Order</td>\n",
       "      <td>Purchase Address</td>\n",
       "      <td>Order</td>\n",
       "    </tr>\n",
       "  </tbody>\n",
       "</table>\n",
       "</div>"
      ],
      "text/plain": [
       "     Order ID  Product  Quantity Ordered  Price Each Order Date  \\\n",
       "519  Order ID  Product  Quantity Ordered  Price Each      Order   \n",
       "\n",
       "     Purchase Address  Month  \n",
       "519  Purchase Address  Order  "
      ]
     },
     "execution_count": 69,
     "metadata": {},
     "output_type": "execute_result"
    }
   ],
   "source": [
    "all_data[filter1]"
   ]
  },
  {
   "cell_type": "code",
   "execution_count": 71,
   "id": "32e03a1b-b971-4867-9295-5da4286f728c",
   "metadata": {},
   "outputs": [
    {
     "data": {
      "text/html": [
       "<div>\n",
       "<style scoped>\n",
       "    .dataframe tbody tr th:only-of-type {\n",
       "        vertical-align: middle;\n",
       "    }\n",
       "\n",
       "    .dataframe tbody tr th {\n",
       "        vertical-align: top;\n",
       "    }\n",
       "\n",
       "    .dataframe thead th {\n",
       "        text-align: right;\n",
       "    }\n",
       "</style>\n",
       "<table border=\"1\" class=\"dataframe\">\n",
       "  <thead>\n",
       "    <tr style=\"text-align: right;\">\n",
       "      <th></th>\n",
       "      <th>Order ID</th>\n",
       "      <th>Product</th>\n",
       "      <th>Quantity Ordered</th>\n",
       "      <th>Price Each</th>\n",
       "      <th>Order Date</th>\n",
       "      <th>Purchase Address</th>\n",
       "      <th>Month</th>\n",
       "    </tr>\n",
       "  </thead>\n",
       "  <tbody>\n",
       "    <tr>\n",
       "      <th>0</th>\n",
       "      <td>176558</td>\n",
       "      <td>USB-C Charging Cable</td>\n",
       "      <td>2</td>\n",
       "      <td>11.95</td>\n",
       "      <td>04</td>\n",
       "      <td>917 1st St, Dallas, TX 75001</td>\n",
       "      <td>04</td>\n",
       "    </tr>\n",
       "    <tr>\n",
       "      <th>2</th>\n",
       "      <td>176559</td>\n",
       "      <td>Bose SoundSport Headphones</td>\n",
       "      <td>1</td>\n",
       "      <td>99.99</td>\n",
       "      <td>04</td>\n",
       "      <td>682 Chestnut St, Boston, MA 02215</td>\n",
       "      <td>04</td>\n",
       "    </tr>\n",
       "    <tr>\n",
       "      <th>3</th>\n",
       "      <td>176560</td>\n",
       "      <td>Google Phone</td>\n",
       "      <td>1</td>\n",
       "      <td>600</td>\n",
       "      <td>04</td>\n",
       "      <td>669 Spruce St, Los Angeles, CA 90001</td>\n",
       "      <td>04</td>\n",
       "    </tr>\n",
       "    <tr>\n",
       "      <th>4</th>\n",
       "      <td>176560</td>\n",
       "      <td>Wired Headphones</td>\n",
       "      <td>1</td>\n",
       "      <td>11.99</td>\n",
       "      <td>04</td>\n",
       "      <td>669 Spruce St, Los Angeles, CA 90001</td>\n",
       "      <td>04</td>\n",
       "    </tr>\n",
       "    <tr>\n",
       "      <th>5</th>\n",
       "      <td>176561</td>\n",
       "      <td>Wired Headphones</td>\n",
       "      <td>1</td>\n",
       "      <td>11.99</td>\n",
       "      <td>04</td>\n",
       "      <td>333 8th St, Los Angeles, CA 90001</td>\n",
       "      <td>04</td>\n",
       "    </tr>\n",
       "    <tr>\n",
       "      <th>...</th>\n",
       "      <td>...</td>\n",
       "      <td>...</td>\n",
       "      <td>...</td>\n",
       "      <td>...</td>\n",
       "      <td>...</td>\n",
       "      <td>...</td>\n",
       "      <td>...</td>\n",
       "    </tr>\n",
       "    <tr>\n",
       "      <th>186845</th>\n",
       "      <td>259353</td>\n",
       "      <td>AAA Batteries (4-pack)</td>\n",
       "      <td>3</td>\n",
       "      <td>2.99</td>\n",
       "      <td>09</td>\n",
       "      <td>840 Highland St, Los Angeles, CA 90001</td>\n",
       "      <td>09</td>\n",
       "    </tr>\n",
       "    <tr>\n",
       "      <th>186846</th>\n",
       "      <td>259354</td>\n",
       "      <td>iPhone</td>\n",
       "      <td>1</td>\n",
       "      <td>700</td>\n",
       "      <td>09</td>\n",
       "      <td>216 Dogwood St, San Francisco, CA 94016</td>\n",
       "      <td>09</td>\n",
       "    </tr>\n",
       "    <tr>\n",
       "      <th>186847</th>\n",
       "      <td>259355</td>\n",
       "      <td>iPhone</td>\n",
       "      <td>1</td>\n",
       "      <td>700</td>\n",
       "      <td>09</td>\n",
       "      <td>220 12th St, San Francisco, CA 94016</td>\n",
       "      <td>09</td>\n",
       "    </tr>\n",
       "    <tr>\n",
       "      <th>186848</th>\n",
       "      <td>259356</td>\n",
       "      <td>34in Ultrawide Monitor</td>\n",
       "      <td>1</td>\n",
       "      <td>379.99</td>\n",
       "      <td>09</td>\n",
       "      <td>511 Forest St, San Francisco, CA 94016</td>\n",
       "      <td>09</td>\n",
       "    </tr>\n",
       "    <tr>\n",
       "      <th>186849</th>\n",
       "      <td>259357</td>\n",
       "      <td>USB-C Charging Cable</td>\n",
       "      <td>1</td>\n",
       "      <td>11.95</td>\n",
       "      <td>09</td>\n",
       "      <td>250 Meadow St, San Francisco, CA 94016</td>\n",
       "      <td>09</td>\n",
       "    </tr>\n",
       "  </tbody>\n",
       "</table>\n",
       "<p>185686 rows × 7 columns</p>\n",
       "</div>"
      ],
      "text/plain": [
       "       Order ID                     Product Quantity Ordered Price Each  \\\n",
       "0        176558        USB-C Charging Cable                2      11.95   \n",
       "2        176559  Bose SoundSport Headphones                1      99.99   \n",
       "3        176560                Google Phone                1        600   \n",
       "4        176560            Wired Headphones                1      11.99   \n",
       "5        176561            Wired Headphones                1      11.99   \n",
       "...         ...                         ...              ...        ...   \n",
       "186845   259353      AAA Batteries (4-pack)                3       2.99   \n",
       "186846   259354                      iPhone                1        700   \n",
       "186847   259355                      iPhone                1        700   \n",
       "186848   259356      34in Ultrawide Monitor                1     379.99   \n",
       "186849   259357        USB-C Charging Cable                1      11.95   \n",
       "\n",
       "       Order Date                         Purchase Address Month  \n",
       "0              04             917 1st St, Dallas, TX 75001    04  \n",
       "2              04        682 Chestnut St, Boston, MA 02215    04  \n",
       "3              04     669 Spruce St, Los Angeles, CA 90001    04  \n",
       "4              04     669 Spruce St, Los Angeles, CA 90001    04  \n",
       "5              04        333 8th St, Los Angeles, CA 90001    04  \n",
       "...           ...                                      ...   ...  \n",
       "186845         09   840 Highland St, Los Angeles, CA 90001    09  \n",
       "186846         09  216 Dogwood St, San Francisco, CA 94016    09  \n",
       "186847         09     220 12th St, San Francisco, CA 94016    09  \n",
       "186848         09   511 Forest St, San Francisco, CA 94016    09  \n",
       "186849         09   250 Meadow St, San Francisco, CA 94016    09  \n",
       "\n",
       "[185686 rows x 7 columns]"
      ]
     },
     "execution_count": 71,
     "metadata": {},
     "output_type": "execute_result"
    }
   ],
   "source": [
    "all_data[~filter1]"
   ]
  },
  {
   "cell_type": "code",
   "execution_count": 73,
   "id": "0d7d707a-b5f9-4ac8-ac80-3a8cd0c892b8",
   "metadata": {},
   "outputs": [],
   "source": [
    "all_data = all_data[~filter1]"
   ]
  },
  {
   "cell_type": "code",
   "execution_count": 75,
   "id": "137e5e14-90dd-4e0d-943b-46abef310fc0",
   "metadata": {},
   "outputs": [
    {
     "data": {
      "text/plain": [
       "(185686, 7)"
      ]
     },
     "execution_count": 75,
     "metadata": {},
     "output_type": "execute_result"
    }
   ],
   "source": [
    "all_data.shape"
   ]
  },
  {
   "cell_type": "code",
   "execution_count": 79,
   "id": "dcdaa79c-fc42-4302-a87c-16516855a952",
   "metadata": {},
   "outputs": [],
   "source": [
    "all_data['Month'] = all_data['Month'].astype(int)"
   ]
  },
  {
   "cell_type": "code",
   "execution_count": 81,
   "id": "4da1d713-c56e-431b-a9ad-499a7b2341c5",
   "metadata": {},
   "outputs": [
    {
     "data": {
      "text/plain": [
       "Order ID            object\n",
       "Product             object\n",
       "Quantity Ordered    object\n",
       "Price Each          object\n",
       "Order Date          object\n",
       "Purchase Address    object\n",
       "Month                int32\n",
       "dtype: object"
      ]
     },
     "execution_count": 81,
     "metadata": {},
     "output_type": "execute_result"
    }
   ],
   "source": [
    "all_data.dtypes"
   ]
  },
  {
   "cell_type": "code",
   "execution_count": 83,
   "id": "f1d5252f-5e4e-4908-8503-2d6f0510f0a6",
   "metadata": {},
   "outputs": [],
   "source": [
    "all_data['Quantity Ordered'] = all_data['Quantity Ordered'].astype(int)\n",
    "all_data['Price Each'] = all_data['Price Each'].astype(float)"
   ]
  },
  {
   "cell_type": "code",
   "execution_count": 87,
   "id": "2dff7496-8567-4247-9b23-9e557016003c",
   "metadata": {},
   "outputs": [],
   "source": [
    "all_data['sales'] = all_data['Quantity Ordered'] * all_data['Price Each']"
   ]
  },
  {
   "cell_type": "code",
   "execution_count": 89,
   "id": "7d224a2b-2570-4944-9756-cb2b69e7e85d",
   "metadata": {},
   "outputs": [
    {
     "data": {
      "text/plain": [
       "Month\n",
       "1     1821413.16\n",
       "2     2200078.08\n",
       "3     2804973.35\n",
       "4     3389217.98\n",
       "5     3150616.23\n",
       "6     2576280.15\n",
       "7     2646461.32\n",
       "8     2241083.37\n",
       "9     2094465.69\n",
       "10    3734777.86\n",
       "11    3197875.05\n",
       "12    4608295.70\n",
       "Name: sales, dtype: float64"
      ]
     },
     "execution_count": 89,
     "metadata": {},
     "output_type": "execute_result"
    }
   ],
   "source": [
    "all_data.groupby(['Month'])['sales'].sum()"
   ]
  },
  {
   "cell_type": "code",
   "execution_count": 91,
   "id": "4e1279ec-2bd7-41e3-98a3-b861be207196",
   "metadata": {},
   "outputs": [
    {
     "data": {
      "text/plain": [
       "<Axes: xlabel='Month'>"
      ]
     },
     "execution_count": 91,
     "metadata": {},
     "output_type": "execute_result"
    },
    {
     "data": {
      "image/png": "[encoded data removed]",
      "text/plain": [
       "<Figure size 640x480 with 1 Axes>"
      ]
     },
     "metadata": {},
     "output_type": "display_data"
    }
   ],
   "source": [
    "all_data.groupby(['Month'])['sales'].sum().plot(kind='bar')"
   ]
  },
  {
   "cell_type": "markdown",
   "id": "c0b20d16-3365-45ca-8a7b-33971fdfa926",
   "metadata": {},
   "source": [
    "December month had the highest sales in all year"
   ]
  },
  {
   "cell_type": "markdown",
   "id": "e6edc777-70fe-41ce-87ef-4a7ab9ef1aed",
   "metadata": {},
   "source": [
    "# Which city has the max. order"
   ]
  },
  {
   "cell_type": "code",
   "execution_count": 123,
   "id": "cd587ea5-0908-40d5-b5f2-a4be65b5b3bc",
   "metadata": {},
   "outputs": [
    {
     "data": {
      "text/plain": [
       "'917 1st St, Dallas, TX 75001'"
      ]
     },
     "execution_count": 123,
     "metadata": {},
     "output_type": "execute_result"
    }
   ],
   "source": [
    "all_data['Purchase Address'][0]"
   ]
  },
  {
   "cell_type": "code",
   "execution_count": 127,
   "id": "e33b87d5-e4e8-42f0-a1cf-832568fcabdb",
   "metadata": {},
   "outputs": [
    {
     "data": {
      "text/plain": [
       "' Dallas'"
      ]
     },
     "execution_count": 127,
     "metadata": {},
     "output_type": "execute_result"
    }
   ],
   "source": [
    "all_data['Purchase Address'][0].split(',')[1]"
   ]
  },
  {
   "cell_type": "code",
   "execution_count": 131,
   "id": "56c77ce9-65f4-483f-a0ff-0e15b9ca284c",
   "metadata": {},
   "outputs": [],
   "source": [
    "all_data['city'] = all_data['Purchase Address'].apply(lambda x: x.split(',')[1])"
   ]
  },
  {
   "cell_type": "code",
   "execution_count": 133,
   "id": "a85ae5b2-f303-4435-87f0-163af138bfcf",
   "metadata": {},
   "outputs": [
    {
     "data": {
      "text/plain": [
       "0                 Dallas\n",
       "2                 Boston\n",
       "3            Los Angeles\n",
       "4            Los Angeles\n",
       "5            Los Angeles\n",
       "               ...      \n",
       "186845       Los Angeles\n",
       "186846     San Francisco\n",
       "186847     San Francisco\n",
       "186848     San Francisco\n",
       "186849     San Francisco\n",
       "Name: city, Length: 185686, dtype: object"
      ]
     },
     "execution_count": 133,
     "metadata": {},
     "output_type": "execute_result"
    }
   ],
   "source": [
    "all_data['city']"
   ]
  },
  {
   "cell_type": "code",
   "execution_count": 135,
   "id": "7f8bca64-c788-4a8b-b9c0-ae3ba101fc6c",
   "metadata": {},
   "outputs": [
    {
     "data": {
      "text/plain": [
       "city\n",
       "Atlanta          16584\n",
       "Austin           11137\n",
       "Boston           22494\n",
       "Dallas           16707\n",
       "Los Angeles      33247\n",
       "New York City    27903\n",
       "Portland         14037\n",
       "San Francisco    50169\n",
       "Seattle          16534\n",
       "Name: Quantity Ordered, dtype: int32"
      ]
     },
     "execution_count": 135,
     "metadata": {},
     "output_type": "execute_result"
    }
   ],
   "source": [
    "all_data.groupby(['city'])['Quantity Ordered'].sum()"
   ]
  },
  {
   "cell_type": "code",
   "execution_count": 142,
   "id": "87823325-8004-4775-ad76-34e706ac2649",
   "metadata": {},
   "outputs": [
    {
     "data": {
      "text/plain": [
       "<Axes: ylabel='count'>"
      ]
     },
     "execution_count": 142,
     "metadata": {},
     "output_type": "execute_result"
    },
    {
     "data": {
      "image/png": "[encoded data removed]",
      "text/plain": [
       "<Figure size 640x480 with 1 Axes>"
      ]
     },
     "metadata": {},
     "output_type": "display_data"
    }
   ],
   "source": [
    "pd.value_counts(all_data['city']).plot(kind = 'pie' , autopct = '%1.0f%%')"
   ]
  },
  {
   "cell_type": "markdown",
   "id": "4f639cb5-5135-4b8b-b36a-50ae97d2b050",
   "metadata": {},
   "source": [
    "San Francisco has the maximum orders"
   ]
  },
  {
   "cell_type": "markdown",
   "id": "d2ef64e8-6ff3-42d0-a2da-568cbbbd6d1c",
   "metadata": {},
   "source": [
    "# What product got sold the most and why ?"
   ]
  },
  {
   "cell_type": "markdown",
   "id": "81954e0a-afbb-4a97-ae6e-55cd7cd0c9e6",
   "metadata": {},
   "source": [
    "If a product has good user rating and has low price , it will get sold much more"
   ]
  },
  {
   "cell_type": "code",
   "execution_count": 149,
   "id": "ba49e101-a59c-4799-8aa8-8bd7ecdca801",
   "metadata": {},
   "outputs": [
    {
     "data": {
      "text/plain": [
       "Index(['Order ID', 'Product', 'Quantity Ordered', 'Price Each', 'Order Date',\n",
       "       'Purchase Address', 'Month', 'sale', 'sales', 'city'],\n",
       "      dtype='object')"
      ]
     },
     "execution_count": 149,
     "metadata": {},
     "output_type": "execute_result"
    }
   ],
   "source": [
    "all_data.columns"
   ]
  },
  {
   "cell_type": "code",
   "execution_count": 159,
   "id": "8d315ae0-c634-4e74-accd-59a2044a2160",
   "metadata": {},
   "outputs": [],
   "source": [
    "count_df = all_data.groupby(['Product']).agg({'Quantity Ordered':'sum','Price Each':'mean'})"
   ]
  },
  {
   "cell_type": "code",
   "execution_count": 163,
   "id": "90d0420e-4eb5-4f1e-b2bd-e435a587f6fd",
   "metadata": {},
   "outputs": [],
   "source": [
    "count_df = count_df.reset_index()"
   ]
  },
  {
   "cell_type": "code",
   "execution_count": 165,
   "id": "f0be930f-5f23-4788-afe1-433f214c3f62",
   "metadata": {},
   "outputs": [
    {
     "data": {
      "text/html": [
       "<div>\n",
       "<style scoped>\n",
       "    .dataframe tbody tr th:only-of-type {\n",
       "        vertical-align: middle;\n",
       "    }\n",
       "\n",
       "    .dataframe tbody tr th {\n",
       "        vertical-align: top;\n",
       "    }\n",
       "\n",
       "    .dataframe thead th {\n",
       "        text-align: right;\n",
       "    }\n",
       "</style>\n",
       "<table border=\"1\" class=\"dataframe\">\n",
       "  <thead>\n",
       "    <tr style=\"text-align: right;\">\n",
       "      <th></th>\n",
       "      <th>Product</th>\n",
       "      <th>Quantity Ordered</th>\n",
       "      <th>Price Each</th>\n",
       "    </tr>\n",
       "  </thead>\n",
       "  <tbody>\n",
       "    <tr>\n",
       "      <th>0</th>\n",
       "      <td>20in Monitor</td>\n",
       "      <td>4126</td>\n",
       "      <td>109.99</td>\n",
       "    </tr>\n",
       "    <tr>\n",
       "      <th>1</th>\n",
       "      <td>27in 4K Gaming Monitor</td>\n",
       "      <td>6239</td>\n",
       "      <td>389.99</td>\n",
       "    </tr>\n",
       "    <tr>\n",
       "      <th>2</th>\n",
       "      <td>27in FHD Monitor</td>\n",
       "      <td>7541</td>\n",
       "      <td>149.99</td>\n",
       "    </tr>\n",
       "    <tr>\n",
       "      <th>3</th>\n",
       "      <td>34in Ultrawide Monitor</td>\n",
       "      <td>6192</td>\n",
       "      <td>379.99</td>\n",
       "    </tr>\n",
       "    <tr>\n",
       "      <th>4</th>\n",
       "      <td>AA Batteries (4-pack)</td>\n",
       "      <td>27615</td>\n",
       "      <td>3.84</td>\n",
       "    </tr>\n",
       "    <tr>\n",
       "      <th>5</th>\n",
       "      <td>AAA Batteries (4-pack)</td>\n",
       "      <td>30986</td>\n",
       "      <td>2.99</td>\n",
       "    </tr>\n",
       "    <tr>\n",
       "      <th>6</th>\n",
       "      <td>Apple Airpods Headphones</td>\n",
       "      <td>15637</td>\n",
       "      <td>150.00</td>\n",
       "    </tr>\n",
       "    <tr>\n",
       "      <th>7</th>\n",
       "      <td>Bose SoundSport Headphones</td>\n",
       "      <td>13430</td>\n",
       "      <td>99.99</td>\n",
       "    </tr>\n",
       "    <tr>\n",
       "      <th>8</th>\n",
       "      <td>Flatscreen TV</td>\n",
       "      <td>4813</td>\n",
       "      <td>300.00</td>\n",
       "    </tr>\n",
       "    <tr>\n",
       "      <th>9</th>\n",
       "      <td>Google Phone</td>\n",
       "      <td>5529</td>\n",
       "      <td>600.00</td>\n",
       "    </tr>\n",
       "    <tr>\n",
       "      <th>10</th>\n",
       "      <td>LG Dryer</td>\n",
       "      <td>646</td>\n",
       "      <td>600.00</td>\n",
       "    </tr>\n",
       "    <tr>\n",
       "      <th>11</th>\n",
       "      <td>LG Washing Machine</td>\n",
       "      <td>666</td>\n",
       "      <td>600.00</td>\n",
       "    </tr>\n",
       "    <tr>\n",
       "      <th>12</th>\n",
       "      <td>Lightning Charging Cable</td>\n",
       "      <td>23169</td>\n",
       "      <td>14.95</td>\n",
       "    </tr>\n",
       "    <tr>\n",
       "      <th>13</th>\n",
       "      <td>Macbook Pro Laptop</td>\n",
       "      <td>4725</td>\n",
       "      <td>1700.00</td>\n",
       "    </tr>\n",
       "    <tr>\n",
       "      <th>14</th>\n",
       "      <td>ThinkPad Laptop</td>\n",
       "      <td>4128</td>\n",
       "      <td>999.99</td>\n",
       "    </tr>\n",
       "    <tr>\n",
       "      <th>15</th>\n",
       "      <td>USB-C Charging Cable</td>\n",
       "      <td>23931</td>\n",
       "      <td>11.95</td>\n",
       "    </tr>\n",
       "    <tr>\n",
       "      <th>16</th>\n",
       "      <td>Vareebadd Phone</td>\n",
       "      <td>2068</td>\n",
       "      <td>400.00</td>\n",
       "    </tr>\n",
       "    <tr>\n",
       "      <th>17</th>\n",
       "      <td>Wired Headphones</td>\n",
       "      <td>20524</td>\n",
       "      <td>11.99</td>\n",
       "    </tr>\n",
       "    <tr>\n",
       "      <th>18</th>\n",
       "      <td>iPhone</td>\n",
       "      <td>6847</td>\n",
       "      <td>700.00</td>\n",
       "    </tr>\n",
       "  </tbody>\n",
       "</table>\n",
       "</div>"
      ],
      "text/plain": [
       "                       Product  Quantity Ordered  Price Each\n",
       "0                 20in Monitor              4126      109.99\n",
       "1       27in 4K Gaming Monitor              6239      389.99\n",
       "2             27in FHD Monitor              7541      149.99\n",
       "3       34in Ultrawide Monitor              6192      379.99\n",
       "4        AA Batteries (4-pack)             27615        3.84\n",
       "5       AAA Batteries (4-pack)             30986        2.99\n",
       "6     Apple Airpods Headphones             15637      150.00\n",
       "7   Bose SoundSport Headphones             13430       99.99\n",
       "8                Flatscreen TV              4813      300.00\n",
       "9                 Google Phone              5529      600.00\n",
       "10                    LG Dryer               646      600.00\n",
       "11          LG Washing Machine               666      600.00\n",
       "12    Lightning Charging Cable             23169       14.95\n",
       "13          Macbook Pro Laptop              4725     1700.00\n",
       "14             ThinkPad Laptop              4128      999.99\n",
       "15        USB-C Charging Cable             23931       11.95\n",
       "16             Vareebadd Phone              2068      400.00\n",
       "17            Wired Headphones             20524       11.99\n",
       "18                      iPhone              6847      700.00"
      ]
     },
     "execution_count": 165,
     "metadata": {},
     "output_type": "execute_result"
    }
   ],
   "source": [
    "count_df"
   ]
  },
  {
   "cell_type": "code",
   "execution_count": 169,
   "id": "0b6609b7-2ba5-4720-b5e5-ab7fb7bfdff1",
   "metadata": {},
   "outputs": [],
   "source": [
    "products = count_df['Product'].values"
   ]
  },
  {
   "cell_type": "code",
   "execution_count": 177,
   "id": "769b043f-4384-4d45-8142-afee63e28fc0",
   "metadata": {},
   "outputs": [
    {
     "data": {
      "text/plain": [
       "Text(0, 0.5, 'Avg price of product')"
      ]
     },
     "execution_count": 177,
     "metadata": {},
     "output_type": "execute_result"
    },
    {
     "data": {
      "image/png": "[encoded data removed]",
      "text/plain": [
       "<Figure size 640x480 with 2 Axes>"
      ]
     },
     "metadata": {},
     "output_type": "display_data"
    }
   ],
   "source": [
    "fig , ax1 = plt.subplots()\n",
    "# Make and return a second axes that shares the *x*-axis.\n",
    "ax2 = ax1.twinx()\n",
    "ax1.bar(count_df['Product'], count_df['Quantity Ordered'],color='g')\n",
    "ax2.plot(count_df['Product'], count_df['Price Each'])\n",
    "ax1.set_xticklabels(products, rotation='vertical',fontsize= 12)\n",
    "\n",
    "ax1.set_ylabel('Order Count')\n",
    "ax2.set_ylabel('Avg price of product')"
   ]
  },
  {
   "cell_type": "markdown",
   "id": "4d813650-8cd1-453d-9bbb-16d2e3cf16fa",
   "metadata": {},
   "source": [
    "AAA batteries are the ones which got sold the most. The reason that the AAA batteries sales are high, is because\n",
    "the price of the product is less"
   ]
  },
  {
   "cell_type": "markdown",
   "id": "66e6c836-5fdb-4b03-901f-dabc060dcc57",
   "metadata": {},
   "source": [
    "# Understanding the trend about the most sold product"
   ]
  },
  {
   "cell_type": "code",
   "execution_count": 183,
   "id": "d34f9ee7-0bb4-412e-85d4-9794ad8fbc7b",
   "metadata": {},
   "outputs": [
    {
     "data": {
      "text/plain": [
       "Index(['USB-C Charging Cable', 'Lightning Charging Cable',\n",
       "       'AAA Batteries (4-pack)', 'AA Batteries (4-pack)', 'Wired Headphones'],\n",
       "      dtype='object', name='Product')"
      ]
     },
     "execution_count": 183,
     "metadata": {},
     "output_type": "execute_result"
    }
   ],
   "source": [
    "all_data['Product'].value_counts()[0:5].index"
   ]
  },
  {
   "cell_type": "code",
   "execution_count": 185,
   "id": "b1029881-3475-4cd1-8632-04ee745010f8",
   "metadata": {},
   "outputs": [],
   "source": [
    "most_sold_product = all_data['Product'].value_counts()[0:5].index"
   ]
  },
  {
   "cell_type": "code",
   "execution_count": 187,
   "id": "a3e5c60b-a9d5-4f08-9e46-3350d001237a",
   "metadata": {},
   "outputs": [
    {
     "data": {
      "text/plain": [
       "0          True\n",
       "2         False\n",
       "3         False\n",
       "4          True\n",
       "5          True\n",
       "          ...  \n",
       "186845     True\n",
       "186846    False\n",
       "186847    False\n",
       "186848    False\n",
       "186849     True\n",
       "Name: Product, Length: 185686, dtype: bool"
      ]
     },
     "execution_count": 187,
     "metadata": {},
     "output_type": "execute_result"
    }
   ],
   "source": [
    "all_data['Product'].isin(most_sold_product)"
   ]
  },
  {
   "cell_type": "code",
   "execution_count": 191,
   "id": "211c0198-edfd-4327-b9dc-6639a65f71a9",
   "metadata": {},
   "outputs": [],
   "source": [
    "most_sold_product_df = all_data[all_data['Product'].isin(most_sold_product)]"
   ]
  },
  {
   "cell_type": "code",
   "execution_count": 193,
   "id": "c5b7b5d1-cc13-4fb0-ba9d-943354f1272c",
   "metadata": {},
   "outputs": [
    {
     "data": {
      "text/html": [
       "<div>\n",
       "<style scoped>\n",
       "    .dataframe tbody tr th:only-of-type {\n",
       "        vertical-align: middle;\n",
       "    }\n",
       "\n",
       "    .dataframe tbody tr th {\n",
       "        vertical-align: top;\n",
       "    }\n",
       "\n",
       "    .dataframe thead th {\n",
       "        text-align: right;\n",
       "    }\n",
       "</style>\n",
       "<table border=\"1\" class=\"dataframe\">\n",
       "  <thead>\n",
       "    <tr style=\"text-align: right;\">\n",
       "      <th></th>\n",
       "      <th>Order ID</th>\n",
       "      <th>Product</th>\n",
       "      <th>Quantity Ordered</th>\n",
       "      <th>Price Each</th>\n",
       "      <th>Order Date</th>\n",
       "      <th>Purchase Address</th>\n",
       "      <th>Month</th>\n",
       "      <th>sale</th>\n",
       "      <th>sales</th>\n",
       "      <th>city</th>\n",
       "    </tr>\n",
       "  </thead>\n",
       "  <tbody>\n",
       "    <tr>\n",
       "      <th>0</th>\n",
       "      <td>176558</td>\n",
       "      <td>USB-C Charging Cable</td>\n",
       "      <td>2</td>\n",
       "      <td>11.95</td>\n",
       "      <td>04</td>\n",
       "      <td>917 1st St, Dallas, TX 75001</td>\n",
       "      <td>4</td>\n",
       "      <td>23.90</td>\n",
       "      <td>23.90</td>\n",
       "      <td>Dallas</td>\n",
       "    </tr>\n",
       "    <tr>\n",
       "      <th>4</th>\n",
       "      <td>176560</td>\n",
       "      <td>Wired Headphones</td>\n",
       "      <td>1</td>\n",
       "      <td>11.99</td>\n",
       "      <td>04</td>\n",
       "      <td>669 Spruce St, Los Angeles, CA 90001</td>\n",
       "      <td>4</td>\n",
       "      <td>11.99</td>\n",
       "      <td>11.99</td>\n",
       "      <td>Los Angeles</td>\n",
       "    </tr>\n",
       "    <tr>\n",
       "      <th>5</th>\n",
       "      <td>176561</td>\n",
       "      <td>Wired Headphones</td>\n",
       "      <td>1</td>\n",
       "      <td>11.99</td>\n",
       "      <td>04</td>\n",
       "      <td>333 8th St, Los Angeles, CA 90001</td>\n",
       "      <td>4</td>\n",
       "      <td>11.99</td>\n",
       "      <td>11.99</td>\n",
       "      <td>Los Angeles</td>\n",
       "    </tr>\n",
       "    <tr>\n",
       "      <th>6</th>\n",
       "      <td>176562</td>\n",
       "      <td>USB-C Charging Cable</td>\n",
       "      <td>1</td>\n",
       "      <td>11.95</td>\n",
       "      <td>04</td>\n",
       "      <td>381 Wilson St, San Francisco, CA 94016</td>\n",
       "      <td>4</td>\n",
       "      <td>11.95</td>\n",
       "      <td>11.95</td>\n",
       "      <td>San Francisco</td>\n",
       "    </tr>\n",
       "    <tr>\n",
       "      <th>8</th>\n",
       "      <td>176564</td>\n",
       "      <td>USB-C Charging Cable</td>\n",
       "      <td>1</td>\n",
       "      <td>11.95</td>\n",
       "      <td>04</td>\n",
       "      <td>790 Ridge St, Atlanta, GA 30301</td>\n",
       "      <td>4</td>\n",
       "      <td>11.95</td>\n",
       "      <td>11.95</td>\n",
       "      <td>Atlanta</td>\n",
       "    </tr>\n",
       "  </tbody>\n",
       "</table>\n",
       "</div>"
      ],
      "text/plain": [
       "  Order ID               Product  Quantity Ordered  Price Each Order Date  \\\n",
       "0   176558  USB-C Charging Cable                 2       11.95         04   \n",
       "4   176560      Wired Headphones                 1       11.99         04   \n",
       "5   176561      Wired Headphones                 1       11.99         04   \n",
       "6   176562  USB-C Charging Cable                 1       11.95         04   \n",
       "8   176564  USB-C Charging Cable                 1       11.95         04   \n",
       "\n",
       "                         Purchase Address  Month   sale  sales            city  \n",
       "0            917 1st St, Dallas, TX 75001      4  23.90  23.90          Dallas  \n",
       "4    669 Spruce St, Los Angeles, CA 90001      4  11.99  11.99     Los Angeles  \n",
       "5       333 8th St, Los Angeles, CA 90001      4  11.99  11.99     Los Angeles  \n",
       "6  381 Wilson St, San Francisco, CA 94016      4  11.95  11.95   San Francisco  \n",
       "8         790 Ridge St, Atlanta, GA 30301      4  11.95  11.95         Atlanta  "
      ]
     },
     "execution_count": 193,
     "metadata": {},
     "output_type": "execute_result"
    }
   ],
   "source": [
    "most_sold_product_df.head()"
   ]
  },
  {
   "cell_type": "code",
   "execution_count": 195,
   "id": "1e3c56dd-a608-4375-a1d7-42b48ff57341",
   "metadata": {},
   "outputs": [
    {
     "data": {
      "text/plain": [
       "Month  Product                 \n",
       "1      AA Batteries (4-pack)       1037\n",
       "       AAA Batteries (4-pack)      1084\n",
       "       Lightning Charging Cable    1069\n",
       "       USB-C Charging Cable        1171\n",
       "       Wired Headphones            1004\n",
       "2      AA Batteries (4-pack)       1274\n",
       "       AAA Batteries (4-pack)      1320\n",
       "       Lightning Charging Cable    1393\n",
       "       USB-C Charging Cable        1511\n",
       "       Wired Headphones            1179\n",
       "3      AA Batteries (4-pack)       1672\n",
       "       AAA Batteries (4-pack)      1645\n",
       "       Lightning Charging Cable    1749\n",
       "       USB-C Charging Cable        1766\n",
       "       Wired Headphones            1512\n",
       "4      AA Batteries (4-pack)       2062\n",
       "       AAA Batteries (4-pack)      1988\n",
       "       Lightning Charging Cable    2197\n",
       "       USB-C Charging Cable        2074\n",
       "       Wired Headphones            1888\n",
       "5      AA Batteries (4-pack)       1821\n",
       "       AAA Batteries (4-pack)      1888\n",
       "       Lightning Charging Cable    1929\n",
       "       USB-C Charging Cable        1879\n",
       "       Wired Headphones            1729\n",
       "6      AA Batteries (4-pack)       1540\n",
       "       AAA Batteries (4-pack)      1451\n",
       "       Lightning Charging Cable    1560\n",
       "       USB-C Charging Cable        1531\n",
       "       Wired Headphones            1334\n",
       "7      AA Batteries (4-pack)       1555\n",
       "       AAA Batteries (4-pack)      1554\n",
       "       Lightning Charging Cable    1690\n",
       "       USB-C Charging Cable        1667\n",
       "       Wired Headphones            1434\n",
       "8      AA Batteries (4-pack)       1357\n",
       "       AAA Batteries (4-pack)      1340\n",
       "       Lightning Charging Cable    1354\n",
       "       USB-C Charging Cable        1339\n",
       "       Wired Headphones            1191\n",
       "9      AA Batteries (4-pack)       1314\n",
       "       AAA Batteries (4-pack)      1281\n",
       "       Lightning Charging Cable    1324\n",
       "       USB-C Charging Cable        1451\n",
       "       Wired Headphones            1173\n",
       "10     AA Batteries (4-pack)       2240\n",
       "       AAA Batteries (4-pack)      2234\n",
       "       Lightning Charging Cable    2414\n",
       "       USB-C Charging Cable        2437\n",
       "       Wired Headphones            2091\n",
       "11     AA Batteries (4-pack)       1970\n",
       "       AAA Batteries (4-pack)      1999\n",
       "       Lightning Charging Cable    2044\n",
       "       USB-C Charging Cable        2054\n",
       "       Wired Headphones            1777\n",
       "12     AA Batteries (4-pack)       2716\n",
       "       AAA Batteries (4-pack)      2828\n",
       "       Lightning Charging Cable    2887\n",
       "       USB-C Charging Cable        2979\n",
       "       Wired Headphones            2537\n",
       "dtype: int64"
      ]
     },
     "execution_count": 195,
     "metadata": {},
     "output_type": "execute_result"
    }
   ],
   "source": [
    "most_sold_product_df.groupby(['Month','Product']).size()"
   ]
  },
  {
   "cell_type": "code",
   "execution_count": 199,
   "id": "d52e8b83-ea9b-4765-be30-c5b26b092884",
   "metadata": {},
   "outputs": [],
   "source": [
    "pivot = most_sold_product_df.groupby(['Month','Product']).size().unstack()"
   ]
  },
  {
   "cell_type": "code",
   "execution_count": 201,
   "id": "1775a65e-46d3-4491-af05-532ddd68054b",
   "metadata": {},
   "outputs": [
    {
     "data": {
      "text/html": [
       "<div>\n",
       "<style scoped>\n",
       "    .dataframe tbody tr th:only-of-type {\n",
       "        vertical-align: middle;\n",
       "    }\n",
       "\n",
       "    .dataframe tbody tr th {\n",
       "        vertical-align: top;\n",
       "    }\n",
       "\n",
       "    .dataframe thead th {\n",
       "        text-align: right;\n",
       "    }\n",
       "</style>\n",
       "<table border=\"1\" class=\"dataframe\">\n",
       "  <thead>\n",
       "    <tr style=\"text-align: right;\">\n",
       "      <th>Product</th>\n",
       "      <th>AA Batteries (4-pack)</th>\n",
       "      <th>AAA Batteries (4-pack)</th>\n",
       "      <th>Lightning Charging Cable</th>\n",
       "      <th>USB-C Charging Cable</th>\n",
       "      <th>Wired Headphones</th>\n",
       "    </tr>\n",
       "    <tr>\n",
       "      <th>Month</th>\n",
       "      <th></th>\n",
       "      <th></th>\n",
       "      <th></th>\n",
       "      <th></th>\n",
       "      <th></th>\n",
       "    </tr>\n",
       "  </thead>\n",
       "  <tbody>\n",
       "    <tr>\n",
       "      <th>1</th>\n",
       "      <td>1037</td>\n",
       "      <td>1084</td>\n",
       "      <td>1069</td>\n",
       "      <td>1171</td>\n",
       "      <td>1004</td>\n",
       "    </tr>\n",
       "    <tr>\n",
       "      <th>2</th>\n",
       "      <td>1274</td>\n",
       "      <td>1320</td>\n",
       "      <td>1393</td>\n",
       "      <td>1511</td>\n",
       "      <td>1179</td>\n",
       "    </tr>\n",
       "    <tr>\n",
       "      <th>3</th>\n",
       "      <td>1672</td>\n",
       "      <td>1645</td>\n",
       "      <td>1749</td>\n",
       "      <td>1766</td>\n",
       "      <td>1512</td>\n",
       "    </tr>\n",
       "    <tr>\n",
       "      <th>4</th>\n",
       "      <td>2062</td>\n",
       "      <td>1988</td>\n",
       "      <td>2197</td>\n",
       "      <td>2074</td>\n",
       "      <td>1888</td>\n",
       "    </tr>\n",
       "    <tr>\n",
       "      <th>5</th>\n",
       "      <td>1821</td>\n",
       "      <td>1888</td>\n",
       "      <td>1929</td>\n",
       "      <td>1879</td>\n",
       "      <td>1729</td>\n",
       "    </tr>\n",
       "    <tr>\n",
       "      <th>6</th>\n",
       "      <td>1540</td>\n",
       "      <td>1451</td>\n",
       "      <td>1560</td>\n",
       "      <td>1531</td>\n",
       "      <td>1334</td>\n",
       "    </tr>\n",
       "    <tr>\n",
       "      <th>7</th>\n",
       "      <td>1555</td>\n",
       "      <td>1554</td>\n",
       "      <td>1690</td>\n",
       "      <td>1667</td>\n",
       "      <td>1434</td>\n",
       "    </tr>\n",
       "    <tr>\n",
       "      <th>8</th>\n",
       "      <td>1357</td>\n",
       "      <td>1340</td>\n",
       "      <td>1354</td>\n",
       "      <td>1339</td>\n",
       "      <td>1191</td>\n",
       "    </tr>\n",
       "    <tr>\n",
       "      <th>9</th>\n",
       "      <td>1314</td>\n",
       "      <td>1281</td>\n",
       "      <td>1324</td>\n",
       "      <td>1451</td>\n",
       "      <td>1173</td>\n",
       "    </tr>\n",
       "    <tr>\n",
       "      <th>10</th>\n",
       "      <td>2240</td>\n",
       "      <td>2234</td>\n",
       "      <td>2414</td>\n",
       "      <td>2437</td>\n",
       "      <td>2091</td>\n",
       "    </tr>\n",
       "    <tr>\n",
       "      <th>11</th>\n",
       "      <td>1970</td>\n",
       "      <td>1999</td>\n",
       "      <td>2044</td>\n",
       "      <td>2054</td>\n",
       "      <td>1777</td>\n",
       "    </tr>\n",
       "    <tr>\n",
       "      <th>12</th>\n",
       "      <td>2716</td>\n",
       "      <td>2828</td>\n",
       "      <td>2887</td>\n",
       "      <td>2979</td>\n",
       "      <td>2537</td>\n",
       "    </tr>\n",
       "  </tbody>\n",
       "</table>\n",
       "</div>"
      ],
      "text/plain": [
       "Product  AA Batteries (4-pack)  AAA Batteries (4-pack)  \\\n",
       "Month                                                    \n",
       "1                         1037                    1084   \n",
       "2                         1274                    1320   \n",
       "3                         1672                    1645   \n",
       "4                         2062                    1988   \n",
       "5                         1821                    1888   \n",
       "6                         1540                    1451   \n",
       "7                         1555                    1554   \n",
       "8                         1357                    1340   \n",
       "9                         1314                    1281   \n",
       "10                        2240                    2234   \n",
       "11                        1970                    1999   \n",
       "12                        2716                    2828   \n",
       "\n",
       "Product  Lightning Charging Cable  USB-C Charging Cable  Wired Headphones  \n",
       "Month                                                                      \n",
       "1                            1069                  1171              1004  \n",
       "2                            1393                  1511              1179  \n",
       "3                            1749                  1766              1512  \n",
       "4                            2197                  2074              1888  \n",
       "5                            1929                  1879              1729  \n",
       "6                            1560                  1531              1334  \n",
       "7                            1690                  1667              1434  \n",
       "8                            1354                  1339              1191  \n",
       "9                            1324                  1451              1173  \n",
       "10                           2414                  2437              2091  \n",
       "11                           2044                  2054              1777  \n",
       "12                           2887                  2979              2537  "
      ]
     },
     "execution_count": 201,
     "metadata": {},
     "output_type": "execute_result"
    }
   ],
   "source": [
    "pivot"
   ]
  },
  {
   "cell_type": "code",
   "execution_count": 205,
   "id": "a6cdb760-2d08-422e-9459-7368c870e29d",
   "metadata": {},
   "outputs": [
    {
     "data": {
      "text/plain": [
       "<Axes: xlabel='Month'>"
      ]
     },
     "execution_count": 205,
     "metadata": {},
     "output_type": "execute_result"
    },
    {
     "data": {
      "image/png": "[encoded data removed]",
      "text/plain": [
       "<Figure size 800x600 with 1 Axes>"
      ]
     },
     "metadata": {},
     "output_type": "display_data"
    }
   ],
   "source": [
    "pivot.plot(figsize=(8,6))"
   ]
  },
  {
   "cell_type": "markdown",
   "id": "2f68dfee-87ad-499b-9597-6082c46007ea",
   "metadata": {},
   "source": [
    "# What products are most often sold together"
   ]
  },
  {
   "cell_type": "code",
   "execution_count": 208,
   "id": "116cfb68-a89c-459b-9b02-1d626270b8d6",
   "metadata": {},
   "outputs": [
    {
     "data": {
      "text/plain": [
       "Index(['Order ID', 'Product', 'Quantity Ordered', 'Price Each', 'Order Date',\n",
       "       'Purchase Address', 'Month', 'sale', 'sales', 'city'],\n",
       "      dtype='object')"
      ]
     },
     "execution_count": 208,
     "metadata": {},
     "output_type": "execute_result"
    }
   ],
   "source": [
    "all_data.columns"
   ]
  },
  {
   "cell_type": "code",
   "execution_count": 210,
   "id": "c73c6b52-b59e-49d1-8737-a1a400fd810a",
   "metadata": {},
   "outputs": [
    {
     "data": {
      "text/plain": [
       "0         176558\n",
       "2         176559\n",
       "3         176560\n",
       "4         176560\n",
       "5         176561\n",
       "           ...  \n",
       "186845    259353\n",
       "186846    259354\n",
       "186847    259355\n",
       "186848    259356\n",
       "186849    259357\n",
       "Name: Order ID, Length: 185686, dtype: object"
      ]
     },
     "execution_count": 210,
     "metadata": {},
     "output_type": "execute_result"
    }
   ],
   "source": [
    "all_data['Order ID']"
   ]
  },
  {
   "cell_type": "code",
   "execution_count": 212,
   "id": "b6458df5-70b1-498b-a803-5f2c62471a9d",
   "metadata": {},
   "outputs": [],
   "source": [
    "# duplicated order IDs signifies that the products are being sold together."
   ]
  },
  {
   "cell_type": "code",
   "execution_count": 218,
   "id": "925d9285-b136-4592-840a-930e53383ab7",
   "metadata": {},
   "outputs": [],
   "source": [
    "df_duplicated = all_data[all_data['Order ID'].duplicated(keep=False)]"
   ]
  },
  {
   "cell_type": "code",
   "execution_count": 220,
   "id": "1c395d93-7409-4990-adb1-d51de4eaf024",
   "metadata": {},
   "outputs": [
    {
     "data": {
      "text/html": [
       "<div>\n",
       "<style scoped>\n",
       "    .dataframe tbody tr th:only-of-type {\n",
       "        vertical-align: middle;\n",
       "    }\n",
       "\n",
       "    .dataframe tbody tr th {\n",
       "        vertical-align: top;\n",
       "    }\n",
       "\n",
       "    .dataframe thead th {\n",
       "        text-align: right;\n",
       "    }\n",
       "</style>\n",
       "<table border=\"1\" class=\"dataframe\">\n",
       "  <thead>\n",
       "    <tr style=\"text-align: right;\">\n",
       "      <th></th>\n",
       "      <th>Order ID</th>\n",
       "      <th>Product</th>\n",
       "      <th>Quantity Ordered</th>\n",
       "      <th>Price Each</th>\n",
       "      <th>Order Date</th>\n",
       "      <th>Purchase Address</th>\n",
       "      <th>Month</th>\n",
       "      <th>sale</th>\n",
       "      <th>sales</th>\n",
       "      <th>city</th>\n",
       "    </tr>\n",
       "  </thead>\n",
       "  <tbody>\n",
       "    <tr>\n",
       "      <th>3</th>\n",
       "      <td>176560</td>\n",
       "      <td>Google Phone</td>\n",
       "      <td>1</td>\n",
       "      <td>600.00</td>\n",
       "      <td>04</td>\n",
       "      <td>669 Spruce St, Los Angeles, CA 90001</td>\n",
       "      <td>4</td>\n",
       "      <td>600.00</td>\n",
       "      <td>600.00</td>\n",
       "      <td>Los Angeles</td>\n",
       "    </tr>\n",
       "    <tr>\n",
       "      <th>4</th>\n",
       "      <td>176560</td>\n",
       "      <td>Wired Headphones</td>\n",
       "      <td>1</td>\n",
       "      <td>11.99</td>\n",
       "      <td>04</td>\n",
       "      <td>669 Spruce St, Los Angeles, CA 90001</td>\n",
       "      <td>4</td>\n",
       "      <td>11.99</td>\n",
       "      <td>11.99</td>\n",
       "      <td>Los Angeles</td>\n",
       "    </tr>\n",
       "    <tr>\n",
       "      <th>18</th>\n",
       "      <td>176574</td>\n",
       "      <td>Google Phone</td>\n",
       "      <td>1</td>\n",
       "      <td>600.00</td>\n",
       "      <td>04</td>\n",
       "      <td>20 Hill St, Los Angeles, CA 90001</td>\n",
       "      <td>4</td>\n",
       "      <td>600.00</td>\n",
       "      <td>600.00</td>\n",
       "      <td>Los Angeles</td>\n",
       "    </tr>\n",
       "    <tr>\n",
       "      <th>19</th>\n",
       "      <td>176574</td>\n",
       "      <td>USB-C Charging Cable</td>\n",
       "      <td>1</td>\n",
       "      <td>11.95</td>\n",
       "      <td>04</td>\n",
       "      <td>20 Hill St, Los Angeles, CA 90001</td>\n",
       "      <td>4</td>\n",
       "      <td>11.95</td>\n",
       "      <td>11.95</td>\n",
       "      <td>Los Angeles</td>\n",
       "    </tr>\n",
       "    <tr>\n",
       "      <th>32</th>\n",
       "      <td>176586</td>\n",
       "      <td>AAA Batteries (4-pack)</td>\n",
       "      <td>2</td>\n",
       "      <td>2.99</td>\n",
       "      <td>04</td>\n",
       "      <td>365 Center St, San Francisco, CA 94016</td>\n",
       "      <td>4</td>\n",
       "      <td>5.98</td>\n",
       "      <td>5.98</td>\n",
       "      <td>San Francisco</td>\n",
       "    </tr>\n",
       "    <tr>\n",
       "      <th>...</th>\n",
       "      <td>...</td>\n",
       "      <td>...</td>\n",
       "      <td>...</td>\n",
       "      <td>...</td>\n",
       "      <td>...</td>\n",
       "      <td>...</td>\n",
       "      <td>...</td>\n",
       "      <td>...</td>\n",
       "      <td>...</td>\n",
       "      <td>...</td>\n",
       "    </tr>\n",
       "    <tr>\n",
       "      <th>186792</th>\n",
       "      <td>259303</td>\n",
       "      <td>AA Batteries (4-pack)</td>\n",
       "      <td>1</td>\n",
       "      <td>3.84</td>\n",
       "      <td>09</td>\n",
       "      <td>106 7th St, Atlanta, GA 30301</td>\n",
       "      <td>9</td>\n",
       "      <td>3.84</td>\n",
       "      <td>3.84</td>\n",
       "      <td>Atlanta</td>\n",
       "    </tr>\n",
       "    <tr>\n",
       "      <th>186803</th>\n",
       "      <td>259314</td>\n",
       "      <td>Wired Headphones</td>\n",
       "      <td>1</td>\n",
       "      <td>11.99</td>\n",
       "      <td>09</td>\n",
       "      <td>241 Highland St, Atlanta, GA 30301</td>\n",
       "      <td>9</td>\n",
       "      <td>11.99</td>\n",
       "      <td>11.99</td>\n",
       "      <td>Atlanta</td>\n",
       "    </tr>\n",
       "    <tr>\n",
       "      <th>186804</th>\n",
       "      <td>259314</td>\n",
       "      <td>AAA Batteries (4-pack)</td>\n",
       "      <td>2</td>\n",
       "      <td>2.99</td>\n",
       "      <td>09</td>\n",
       "      <td>241 Highland St, Atlanta, GA 30301</td>\n",
       "      <td>9</td>\n",
       "      <td>5.98</td>\n",
       "      <td>5.98</td>\n",
       "      <td>Atlanta</td>\n",
       "    </tr>\n",
       "    <tr>\n",
       "      <th>186841</th>\n",
       "      <td>259350</td>\n",
       "      <td>Google Phone</td>\n",
       "      <td>1</td>\n",
       "      <td>600.00</td>\n",
       "      <td>09</td>\n",
       "      <td>519 Maple St, San Francisco, CA 94016</td>\n",
       "      <td>9</td>\n",
       "      <td>600.00</td>\n",
       "      <td>600.00</td>\n",
       "      <td>San Francisco</td>\n",
       "    </tr>\n",
       "    <tr>\n",
       "      <th>186842</th>\n",
       "      <td>259350</td>\n",
       "      <td>USB-C Charging Cable</td>\n",
       "      <td>1</td>\n",
       "      <td>11.95</td>\n",
       "      <td>09</td>\n",
       "      <td>519 Maple St, San Francisco, CA 94016</td>\n",
       "      <td>9</td>\n",
       "      <td>11.95</td>\n",
       "      <td>11.95</td>\n",
       "      <td>San Francisco</td>\n",
       "    </tr>\n",
       "  </tbody>\n",
       "</table>\n",
       "<p>14128 rows × 10 columns</p>\n",
       "</div>"
      ],
      "text/plain": [
       "       Order ID                 Product  Quantity Ordered  Price Each  \\\n",
       "3        176560            Google Phone                 1      600.00   \n",
       "4        176560        Wired Headphones                 1       11.99   \n",
       "18       176574            Google Phone                 1      600.00   \n",
       "19       176574    USB-C Charging Cable                 1       11.95   \n",
       "32       176586  AAA Batteries (4-pack)                 2        2.99   \n",
       "...         ...                     ...               ...         ...   \n",
       "186792   259303   AA Batteries (4-pack)                 1        3.84   \n",
       "186803   259314        Wired Headphones                 1       11.99   \n",
       "186804   259314  AAA Batteries (4-pack)                 2        2.99   \n",
       "186841   259350            Google Phone                 1      600.00   \n",
       "186842   259350    USB-C Charging Cable                 1       11.95   \n",
       "\n",
       "       Order Date                        Purchase Address  Month    sale  \\\n",
       "3              04    669 Spruce St, Los Angeles, CA 90001      4  600.00   \n",
       "4              04    669 Spruce St, Los Angeles, CA 90001      4   11.99   \n",
       "18             04       20 Hill St, Los Angeles, CA 90001      4  600.00   \n",
       "19             04       20 Hill St, Los Angeles, CA 90001      4   11.95   \n",
       "32             04  365 Center St, San Francisco, CA 94016      4    5.98   \n",
       "...           ...                                     ...    ...     ...   \n",
       "186792         09           106 7th St, Atlanta, GA 30301      9    3.84   \n",
       "186803         09      241 Highland St, Atlanta, GA 30301      9   11.99   \n",
       "186804         09      241 Highland St, Atlanta, GA 30301      9    5.98   \n",
       "186841         09   519 Maple St, San Francisco, CA 94016      9  600.00   \n",
       "186842         09   519 Maple St, San Francisco, CA 94016      9   11.95   \n",
       "\n",
       "         sales            city  \n",
       "3       600.00     Los Angeles  \n",
       "4        11.99     Los Angeles  \n",
       "18      600.00     Los Angeles  \n",
       "19       11.95     Los Angeles  \n",
       "32        5.98   San Francisco  \n",
       "...        ...             ...  \n",
       "186792    3.84         Atlanta  \n",
       "186803   11.99         Atlanta  \n",
       "186804    5.98         Atlanta  \n",
       "186841  600.00   San Francisco  \n",
       "186842   11.95   San Francisco  \n",
       "\n",
       "[14128 rows x 10 columns]"
      ]
     },
     "execution_count": 220,
     "metadata": {},
     "output_type": "execute_result"
    }
   ],
   "source": [
    "df_duplicated"
   ]
  },
  {
   "cell_type": "code",
   "execution_count": 228,
   "id": "f8602afa-3a73-4022-808b-de8167a1289d",
   "metadata": {},
   "outputs": [],
   "source": [
    "dup_products = df_duplicated.groupby(['Order ID'])['Product'].apply(lambda x: ','.join(x)).reset_index().rename(columns={'Product':'Grouped Products'})"
   ]
  },
  {
   "cell_type": "code",
   "execution_count": 232,
   "id": "a40757bc-46e0-4134-a403-1e75ab014dbb",
   "metadata": {},
   "outputs": [],
   "source": [
    "dup_products_df = df_duplicated.merge(dup_products,how='left',on='Order ID')"
   ]
  },
  {
   "cell_type": "code",
   "execution_count": 234,
   "id": "612b208c-d37f-4ffd-b9e2-aa90176e6520",
   "metadata": {},
   "outputs": [
    {
     "data": {
      "text/html": [
       "<div>\n",
       "<style scoped>\n",
       "    .dataframe tbody tr th:only-of-type {\n",
       "        vertical-align: middle;\n",
       "    }\n",
       "\n",
       "    .dataframe tbody tr th {\n",
       "        vertical-align: top;\n",
       "    }\n",
       "\n",
       "    .dataframe thead th {\n",
       "        text-align: right;\n",
       "    }\n",
       "</style>\n",
       "<table border=\"1\" class=\"dataframe\">\n",
       "  <thead>\n",
       "    <tr style=\"text-align: right;\">\n",
       "      <th></th>\n",
       "      <th>Order ID</th>\n",
       "      <th>Product</th>\n",
       "      <th>Quantity Ordered</th>\n",
       "      <th>Price Each</th>\n",
       "      <th>Order Date</th>\n",
       "      <th>Purchase Address</th>\n",
       "      <th>Month</th>\n",
       "      <th>sale</th>\n",
       "      <th>sales</th>\n",
       "      <th>city</th>\n",
       "      <th>Grouped Products</th>\n",
       "    </tr>\n",
       "  </thead>\n",
       "  <tbody>\n",
       "    <tr>\n",
       "      <th>0</th>\n",
       "      <td>176560</td>\n",
       "      <td>Google Phone</td>\n",
       "      <td>1</td>\n",
       "      <td>600.00</td>\n",
       "      <td>04</td>\n",
       "      <td>669 Spruce St, Los Angeles, CA 90001</td>\n",
       "      <td>4</td>\n",
       "      <td>600.00</td>\n",
       "      <td>600.00</td>\n",
       "      <td>Los Angeles</td>\n",
       "      <td>Google Phone,Wired Headphones</td>\n",
       "    </tr>\n",
       "    <tr>\n",
       "      <th>1</th>\n",
       "      <td>176560</td>\n",
       "      <td>Wired Headphones</td>\n",
       "      <td>1</td>\n",
       "      <td>11.99</td>\n",
       "      <td>04</td>\n",
       "      <td>669 Spruce St, Los Angeles, CA 90001</td>\n",
       "      <td>4</td>\n",
       "      <td>11.99</td>\n",
       "      <td>11.99</td>\n",
       "      <td>Los Angeles</td>\n",
       "      <td>Google Phone,Wired Headphones</td>\n",
       "    </tr>\n",
       "    <tr>\n",
       "      <th>2</th>\n",
       "      <td>176574</td>\n",
       "      <td>Google Phone</td>\n",
       "      <td>1</td>\n",
       "      <td>600.00</td>\n",
       "      <td>04</td>\n",
       "      <td>20 Hill St, Los Angeles, CA 90001</td>\n",
       "      <td>4</td>\n",
       "      <td>600.00</td>\n",
       "      <td>600.00</td>\n",
       "      <td>Los Angeles</td>\n",
       "      <td>Google Phone,USB-C Charging Cable</td>\n",
       "    </tr>\n",
       "    <tr>\n",
       "      <th>3</th>\n",
       "      <td>176574</td>\n",
       "      <td>USB-C Charging Cable</td>\n",
       "      <td>1</td>\n",
       "      <td>11.95</td>\n",
       "      <td>04</td>\n",
       "      <td>20 Hill St, Los Angeles, CA 90001</td>\n",
       "      <td>4</td>\n",
       "      <td>11.95</td>\n",
       "      <td>11.95</td>\n",
       "      <td>Los Angeles</td>\n",
       "      <td>Google Phone,USB-C Charging Cable</td>\n",
       "    </tr>\n",
       "    <tr>\n",
       "      <th>4</th>\n",
       "      <td>176586</td>\n",
       "      <td>AAA Batteries (4-pack)</td>\n",
       "      <td>2</td>\n",
       "      <td>2.99</td>\n",
       "      <td>04</td>\n",
       "      <td>365 Center St, San Francisco, CA 94016</td>\n",
       "      <td>4</td>\n",
       "      <td>5.98</td>\n",
       "      <td>5.98</td>\n",
       "      <td>San Francisco</td>\n",
       "      <td>AAA Batteries (4-pack),Google Phone</td>\n",
       "    </tr>\n",
       "    <tr>\n",
       "      <th>...</th>\n",
       "      <td>...</td>\n",
       "      <td>...</td>\n",
       "      <td>...</td>\n",
       "      <td>...</td>\n",
       "      <td>...</td>\n",
       "      <td>...</td>\n",
       "      <td>...</td>\n",
       "      <td>...</td>\n",
       "      <td>...</td>\n",
       "      <td>...</td>\n",
       "      <td>...</td>\n",
       "    </tr>\n",
       "    <tr>\n",
       "      <th>14123</th>\n",
       "      <td>259303</td>\n",
       "      <td>AA Batteries (4-pack)</td>\n",
       "      <td>1</td>\n",
       "      <td>3.84</td>\n",
       "      <td>09</td>\n",
       "      <td>106 7th St, Atlanta, GA 30301</td>\n",
       "      <td>9</td>\n",
       "      <td>3.84</td>\n",
       "      <td>3.84</td>\n",
       "      <td>Atlanta</td>\n",
       "      <td>34in Ultrawide Monitor,AA Batteries (4-pack)</td>\n",
       "    </tr>\n",
       "    <tr>\n",
       "      <th>14124</th>\n",
       "      <td>259314</td>\n",
       "      <td>Wired Headphones</td>\n",
       "      <td>1</td>\n",
       "      <td>11.99</td>\n",
       "      <td>09</td>\n",
       "      <td>241 Highland St, Atlanta, GA 30301</td>\n",
       "      <td>9</td>\n",
       "      <td>11.99</td>\n",
       "      <td>11.99</td>\n",
       "      <td>Atlanta</td>\n",
       "      <td>Wired Headphones,AAA Batteries (4-pack)</td>\n",
       "    </tr>\n",
       "    <tr>\n",
       "      <th>14125</th>\n",
       "      <td>259314</td>\n",
       "      <td>AAA Batteries (4-pack)</td>\n",
       "      <td>2</td>\n",
       "      <td>2.99</td>\n",
       "      <td>09</td>\n",
       "      <td>241 Highland St, Atlanta, GA 30301</td>\n",
       "      <td>9</td>\n",
       "      <td>5.98</td>\n",
       "      <td>5.98</td>\n",
       "      <td>Atlanta</td>\n",
       "      <td>Wired Headphones,AAA Batteries (4-pack)</td>\n",
       "    </tr>\n",
       "    <tr>\n",
       "      <th>14126</th>\n",
       "      <td>259350</td>\n",
       "      <td>Google Phone</td>\n",
       "      <td>1</td>\n",
       "      <td>600.00</td>\n",
       "      <td>09</td>\n",
       "      <td>519 Maple St, San Francisco, CA 94016</td>\n",
       "      <td>9</td>\n",
       "      <td>600.00</td>\n",
       "      <td>600.00</td>\n",
       "      <td>San Francisco</td>\n",
       "      <td>Google Phone,USB-C Charging Cable</td>\n",
       "    </tr>\n",
       "    <tr>\n",
       "      <th>14127</th>\n",
       "      <td>259350</td>\n",
       "      <td>USB-C Charging Cable</td>\n",
       "      <td>1</td>\n",
       "      <td>11.95</td>\n",
       "      <td>09</td>\n",
       "      <td>519 Maple St, San Francisco, CA 94016</td>\n",
       "      <td>9</td>\n",
       "      <td>11.95</td>\n",
       "      <td>11.95</td>\n",
       "      <td>San Francisco</td>\n",
       "      <td>Google Phone,USB-C Charging Cable</td>\n",
       "    </tr>\n",
       "  </tbody>\n",
       "</table>\n",
       "<p>14128 rows × 11 columns</p>\n",
       "</div>"
      ],
      "text/plain": [
       "      Order ID                 Product  Quantity Ordered  Price Each  \\\n",
       "0       176560            Google Phone                 1      600.00   \n",
       "1       176560        Wired Headphones                 1       11.99   \n",
       "2       176574            Google Phone                 1      600.00   \n",
       "3       176574    USB-C Charging Cable                 1       11.95   \n",
       "4       176586  AAA Batteries (4-pack)                 2        2.99   \n",
       "...        ...                     ...               ...         ...   \n",
       "14123   259303   AA Batteries (4-pack)                 1        3.84   \n",
       "14124   259314        Wired Headphones                 1       11.99   \n",
       "14125   259314  AAA Batteries (4-pack)                 2        2.99   \n",
       "14126   259350            Google Phone                 1      600.00   \n",
       "14127   259350    USB-C Charging Cable                 1       11.95   \n",
       "\n",
       "      Order Date                        Purchase Address  Month    sale  \\\n",
       "0             04    669 Spruce St, Los Angeles, CA 90001      4  600.00   \n",
       "1             04    669 Spruce St, Los Angeles, CA 90001      4   11.99   \n",
       "2             04       20 Hill St, Los Angeles, CA 90001      4  600.00   \n",
       "3             04       20 Hill St, Los Angeles, CA 90001      4   11.95   \n",
       "4             04  365 Center St, San Francisco, CA 94016      4    5.98   \n",
       "...          ...                                     ...    ...     ...   \n",
       "14123         09           106 7th St, Atlanta, GA 30301      9    3.84   \n",
       "14124         09      241 Highland St, Atlanta, GA 30301      9   11.99   \n",
       "14125         09      241 Highland St, Atlanta, GA 30301      9    5.98   \n",
       "14126         09   519 Maple St, San Francisco, CA 94016      9  600.00   \n",
       "14127         09   519 Maple St, San Francisco, CA 94016      9   11.95   \n",
       "\n",
       "        sales            city                              Grouped Products  \n",
       "0      600.00     Los Angeles                 Google Phone,Wired Headphones  \n",
       "1       11.99     Los Angeles                 Google Phone,Wired Headphones  \n",
       "2      600.00     Los Angeles             Google Phone,USB-C Charging Cable  \n",
       "3       11.95     Los Angeles             Google Phone,USB-C Charging Cable  \n",
       "4        5.98   San Francisco           AAA Batteries (4-pack),Google Phone  \n",
       "...       ...             ...                                           ...  \n",
       "14123    3.84         Atlanta  34in Ultrawide Monitor,AA Batteries (4-pack)  \n",
       "14124   11.99         Atlanta       Wired Headphones,AAA Batteries (4-pack)  \n",
       "14125    5.98         Atlanta       Wired Headphones,AAA Batteries (4-pack)  \n",
       "14126  600.00   San Francisco             Google Phone,USB-C Charging Cable  \n",
       "14127   11.95   San Francisco             Google Phone,USB-C Charging Cable  \n",
       "\n",
       "[14128 rows x 11 columns]"
      ]
     },
     "execution_count": 234,
     "metadata": {},
     "output_type": "execute_result"
    }
   ],
   "source": [
    "dup_products_df"
   ]
  },
  {
   "cell_type": "code",
   "execution_count": 240,
   "id": "c7548643-e78e-4c6c-97b2-f39cfa104b24",
   "metadata": {},
   "outputs": [],
   "source": [
    "no_dup_df = dup_products_df.drop_duplicates(subset=['Order ID'])"
   ]
  },
  {
   "cell_type": "code",
   "execution_count": 252,
   "id": "fa08791c-bb1f-4108-adde-ab8a0c2791d7",
   "metadata": {},
   "outputs": [
    {
     "data": {
      "text/plain": [
       "<Axes: ylabel='count'>"
      ]
     },
     "execution_count": 252,
     "metadata": {},
     "output_type": "execute_result"
    },
    {
     "data": {
      "image/png": "[encoded data removed]",
      "text/plain": [
       "<Figure size 640x480 with 1 Axes>"
      ]
     },
     "metadata": {},
     "output_type": "display_data"
    }
   ],
   "source": [
    "no_dup_df['Grouped Products'].value_counts()[0:5].plot(kind = 'pie' , autopct = '%1.0f%%')"
   ]
  },
  {
   "cell_type": "code",
   "execution_count": null,
   "id": "0e06c507-ac99-4a52-a0b5-fc27a839da57",
   "metadata": {},
   "outputs": [],
   "source": []
  }
 ],
 "metadata": {
  "kernelspec": {
   "display_name": "Python 3 (ipykernel)",
   "language": "python",
   "name": "python3"
  },
  "language_info": {
   "codemirror_mode": {
    "name": "ipython",
    "version": 3
   },
   "file_extension": ".py",
   "mimetype": "text/x-python",
   "name": "python",
   "nbconvert_exporter": "python",
   "pygments_lexer": "ipython3",
   "version": "3.12.3"
  }
 },
 "nbformat": 4,
 "nbformat_minor": 5
}
